{
 "cells": [
  {
   "cell_type": "code",
   "execution_count": null,
   "id": "5489fc86",
   "metadata": {},
   "outputs": [],
   "source": [
    "def fact(n):\n",
    "    prod = 1\n",
    "    if (n > 1):\n",
    "        prod = n * fact(n-1)\n",
    "        n -=1\n",
    "    return prod\n",
    "def fact_of_fact(n):\n",
    "    prod = 1\n",
    "    while (n > 0):\n",
    "        prod *= fact(n)\n",
    "        n = n-1\n",
    "    return prod"
   ]
  },
  {
   "cell_type": "markdown",
   "id": "23638e1c",
   "metadata": {},
   "source": [
    "Problem:   https://edabit.com/challenge/f3jX2BwzAuR8DXsy4  (3 points)"
   ]
  },
  {
   "cell_type": "code",
   "execution_count": null,
   "id": "7c1d7c69",
   "metadata": {},
   "outputs": [],
   "source": [
    "def loves_me(n):\n",
    "    str =''\n",
    "    lm = 'Loves me'\n",
    "    lmn = 'Loves me not'\n",
    "    if (n % 2 == 0):\n",
    "        while(n > 1):\n",
    "            if(n % 2 == 1):\n",
    "                str = str + lm + ', '\n",
    "            else:\n",
    "                str = str + lmn + ', '\n",
    "            n = n - 1\n",
    "        str = str + lmn.upper()\n",
    "    else:\n",
    "        while(n > 1):\n",
    "            if(n % 2 == 1):\n",
    "                str = str + lm + ', '\n",
    "            else:\n",
    "                str = str + lmn + ', '\n",
    "            n = n - 1\n",
    "        str = str + lm.upper()\n",
    "    return(str)"
   ]
  },
  {
   "cell_type": "markdown",
   "id": "a57b5236",
   "metadata": {},
   "source": [
    "Problem:    https://edabit.com/challenge/6pEGXsuCAxbWTRkgc  (3 points)"
   ]
  },
  {
   "cell_type": "code",
   "execution_count": null,
   "id": "6a54c609",
   "metadata": {},
   "outputs": [],
   "source": [
    "def is_disarium(n):\n",
    "    res = 0\n",
    "    n_s = str(n)\n",
    "    for a in n_s:\n",
    "        res += int(a)**(n_s.index(a) + 1)\n",
    "    return n == res"
   ]
  },
  {
   "cell_type": "markdown",
   "id": "204bb5e6",
   "metadata": {},
   "source": [
    "Problem:   https://edabit.com/challenge/yvJbdkmKHvCNtcZy9   (3 points)"
   ]
  },
  {
   "cell_type": "code",
   "execution_count": null,
   "id": "04bb9b09",
   "metadata": {},
   "outputs": [],
   "source": [
    "def number_length(num):\n",
    "    n_s = str(num)\n",
    "    c = 0\n",
    "    for a in n_s:\n",
    "        c += 1 \n",
    "    return c "
   ]
  },
  {
   "cell_type": "markdown",
   "id": "a29204c4",
   "metadata": {},
   "source": [
    "Problem:   https://edabit.com/challenge/2zKetgAJp4WRFXiDT   (2 points)"
   ]
  },
  {
   "cell_type": "code",
   "execution_count": null,
   "id": "89bbdcbc",
   "metadata": {},
   "outputs": [],
   "source": [
    "def square_areas_difference(r):\n",
    "    return 2*r**2  #(4*r**2) - (r**2 / 2)*4"
   ]
  },
  {
   "cell_type": "markdown",
   "id": "8059e655",
   "metadata": {},
   "source": [
    "Problem:   https://edabit.com/challenge/NNhkGocuPMcryW7GP  (2 points)"
   ]
  },
  {
   "cell_type": "code",
   "execution_count": null,
   "id": "ca3104b0",
   "metadata": {},
   "outputs": [],
   "source": [
    "def list_of_multiples (num, length):\n",
    "    res =[]\n",
    "    i = 1\n",
    "    while(i <= length):\n",
    "        res.append(num*i)\n",
    "        i+=1\n",
    "    return res"
   ]
  },
  {
   "cell_type": "markdown",
   "id": "0f5785d3",
   "metadata": {},
   "source": [
    "Problem:   https://edabit.com/challenge/BuwHwPvt92yw574zB  (2 points)"
   ]
  }
 ],
 "metadata": {
  "kernelspec": {
   "display_name": "Python 3",
   "language": "python",
   "name": "python3"
  },
  "language_info": {
   "codemirror_mode": {
    "name": "ipython",
    "version": 3
   },
   "file_extension": ".py",
   "mimetype": "text/x-python",
   "name": "python",
   "nbconvert_exporter": "python",
   "pygments_lexer": "ipython3",
   "version": "3.8.8"
  }
 },
 "nbformat": 4,
 "nbformat_minor": 5
}
